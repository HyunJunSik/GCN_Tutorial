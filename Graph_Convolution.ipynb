{
 "cells": [
  {
   "attachments": {},
   "cell_type": "markdown",
   "metadata": {},
   "source": [
    "https://www.kaggle.com/code/validmodel/graph-neural-network-starter-for-beginners"
   ]
  },
  {
   "attachments": {},
   "cell_type": "markdown",
   "metadata": {},
   "source": [
    "## The Basic Math for Graph Structured data"
   ]
  },
  {
   "cell_type": "markdown",
   "metadata": {},
   "source": [
    "> ### 우리는 픽셀이나 단어를 **하나의 노드 N**이라고 표현할 것임.\n",
    "> ### 연결성을 표현하기 위해 N x N 행렬을 정의하는데, 이를 인접행렬 A라고 부름. "
   ]
  },
  {
   "cell_type": "markdown",
   "metadata": {},
   "source": [
    "> ### 아래의 수식은 Signal이라는 표현식으로, F는 feature의 개수임. 예를들어 RGB 이미지는 F=3(RGB)임. 단어로 따지면 embedding차원임.\n",
    "\n",
    "## $X \\in  R^{N \\times F}$"
   ]
  },
  {
   "cell_type": "code",
   "execution_count": 7,
   "metadata": {},
   "outputs": [
    {
     "name": "stdout",
     "output_type": "stream",
     "text": [
      "Collecting torchnet\n",
      "  Downloading torchnet-0.0.4.tar.gz (23 kB)\n",
      "  Preparing metadata (setup.py) ... \u001b[?25ldone\n",
      "\u001b[?25hRequirement already satisfied: networkx in /opt/anaconda3/envs/myenv2/lib/python3.10/site-packages (3.1)\n",
      "Requirement already satisfied: torch in /opt/anaconda3/envs/myenv2/lib/python3.10/site-packages (from torchnet) (2.0.0)\n",
      "Requirement already satisfied: six in /opt/anaconda3/envs/myenv2/lib/python3.10/site-packages (from torchnet) (1.16.0)\n",
      "Collecting visdom\n",
      "  Downloading visdom-0.2.4.tar.gz (1.4 MB)\n",
      "\u001b[2K     \u001b[90m━━━━━━━━━━━━━━━━━━━━━━━━━━━━━━━━━━━━━━━━\u001b[0m \u001b[32m1.4/1.4 MB\u001b[0m \u001b[31m22.7 MB/s\u001b[0m eta \u001b[36m0:00:00\u001b[0ma \u001b[36m0:00:01\u001b[0m\n",
      "\u001b[?25h  Preparing metadata (setup.py) ... \u001b[?25ldone\n",
      "\u001b[?25hRequirement already satisfied: sympy in /opt/anaconda3/envs/myenv2/lib/python3.10/site-packages (from torch->torchnet) (1.11.1)\n",
      "Requirement already satisfied: jinja2 in /opt/anaconda3/envs/myenv2/lib/python3.10/site-packages (from torch->torchnet) (3.1.2)\n",
      "Requirement already satisfied: typing-extensions in /opt/anaconda3/envs/myenv2/lib/python3.10/site-packages (from torch->torchnet) (4.4.0)\n",
      "Requirement already satisfied: filelock in /opt/anaconda3/envs/myenv2/lib/python3.10/site-packages (from torch->torchnet) (3.9.0)\n",
      "Requirement already satisfied: numpy>=1.8 in /opt/anaconda3/envs/myenv2/lib/python3.10/site-packages (from visdom->torchnet) (1.22.4)\n",
      "Requirement already satisfied: scipy in /opt/anaconda3/envs/myenv2/lib/python3.10/site-packages (from visdom->torchnet) (1.7.3)\n",
      "Requirement already satisfied: requests in /opt/anaconda3/envs/myenv2/lib/python3.10/site-packages (from visdom->torchnet) (2.28.1)\n",
      "Requirement already satisfied: tornado in /opt/anaconda3/envs/myenv2/lib/python3.10/site-packages (from visdom->torchnet) (6.2)\n",
      "Collecting jsonpatch\n",
      "  Downloading jsonpatch-1.33-py2.py3-none-any.whl (12 kB)\n",
      "Requirement already satisfied: websocket-client in /opt/anaconda3/envs/myenv2/lib/python3.10/site-packages (from visdom->torchnet) (0.58.0)\n",
      "Requirement already satisfied: pillow in /opt/anaconda3/envs/myenv2/lib/python3.10/site-packages (from visdom->torchnet) (9.0.1)\n",
      "Requirement already satisfied: MarkupSafe>=2.0 in /opt/anaconda3/envs/myenv2/lib/python3.10/site-packages (from jinja2->torch->torchnet) (2.1.1)\n",
      "Collecting jsonpointer>=1.9\n",
      "  Downloading jsonpointer-2.4-py2.py3-none-any.whl (7.8 kB)\n",
      "Requirement already satisfied: charset-normalizer<3,>=2 in /opt/anaconda3/envs/myenv2/lib/python3.10/site-packages (from requests->visdom->torchnet) (2.0.4)\n",
      "Requirement already satisfied: urllib3<1.27,>=1.21.1 in /opt/anaconda3/envs/myenv2/lib/python3.10/site-packages (from requests->visdom->torchnet) (1.26.14)\n",
      "Requirement already satisfied: certifi>=2017.4.17 in /opt/anaconda3/envs/myenv2/lib/python3.10/site-packages (from requests->visdom->torchnet) (2023.7.22)\n",
      "Requirement already satisfied: idna<4,>=2.5 in /opt/anaconda3/envs/myenv2/lib/python3.10/site-packages (from requests->visdom->torchnet) (3.4)\n",
      "Requirement already satisfied: mpmath>=0.19 in /opt/anaconda3/envs/myenv2/lib/python3.10/site-packages (from sympy->torch->torchnet) (1.3.0)\n",
      "Building wheels for collected packages: torchnet, visdom\n",
      "  Building wheel for torchnet (setup.py) ... \u001b[?25ldone\n",
      "\u001b[?25h  Created wheel for torchnet: filename=torchnet-0.0.4-py3-none-any.whl size=29728 sha256=6dfccb5fcf84777f0be58e916e2dc09c348c63ebbaf85508b943d90a67656c27\n",
      "  Stored in directory: /Users/jeonghyeonjin/Library/Caches/pip/wheels/c6/64/93/b0f5bb7601f781ab99eb29db201a85ca007fa07af0449eec3c\n",
      "  Building wheel for visdom (setup.py) ... \u001b[?25ldone\n",
      "\u001b[?25h  Created wheel for visdom: filename=visdom-0.2.4-py3-none-any.whl size=1408197 sha256=086b111ad86c511373074ff692f8b7bc6869460eb6497e613f8108b939410d7e\n",
      "  Stored in directory: /Users/jeonghyeonjin/Library/Caches/pip/wheels/d7/94/e8/9e718f98bc717d1e6530d59d46e23996cc60cf2a28f1937ed4\n",
      "Successfully built torchnet visdom\n",
      "Installing collected packages: jsonpointer, jsonpatch, visdom, torchnet\n",
      "Successfully installed jsonpatch-1.33 jsonpointer-2.4 torchnet-0.0.4 visdom-0.2.4\n"
     ]
    }
   ],
   "source": [
    "!pip install torchnet networkx"
   ]
  },
  {
   "cell_type": "markdown",
   "metadata": {},
   "source": [
    "> ### 인접행렬 생성 함수 "
   ]
  },
  {
   "cell_type": "code",
   "execution_count": 8,
   "metadata": {},
   "outputs": [],
   "source": [
    "import torch\n",
    "\n",
    "def create_adj(size):\n",
    "    a = torch.rand(size, size)\n",
    "    a[a > 0.5] = 1\n",
    "    a[a <= 0.5] = 0\n",
    "    # Diagnoal elements set zero\n",
    "    for i in range(a.shape[0]):\n",
    "        for j in range(a.shape[1]):\n",
    "            if i == j:\n",
    "                a[i, j] = 0\n",
    "\n",
    "    return a"
   ]
  },
  {
   "cell_type": "markdown",
   "metadata": {},
   "source": [
    "# Graph Laplacian\n",
    "\n",
    "> ### 각 노드의 single value를 위해 차수 행렬 D 선언해야함. 그리고, 그래프 연산을 위해 그래프 라플라시안이 필요하다.\n",
    "> ### 라플라시안의 대각 요소는 노드의 차수를 의미한다(이때, self-loop는 없음), "
   ]
  },
  {
   "cell_type": "code",
   "execution_count": 9,
   "metadata": {},
   "outputs": [],
   "source": [
    "def degree_matrix(a):\n",
    "    return torch.diag(a.sum(dim=-1))\n",
    "\n",
    "def graph_laplacian(a):\n",
    "    return degree_matrix(a) - a"
   ]
  },
  {
   "cell_type": "code",
   "execution_count": 13,
   "metadata": {},
   "outputs": [
    {
     "name": "stdout",
     "output_type": "stream",
     "text": [
      "tensor([[0., 1., 0., 0., 0.],\n",
      "        [1., 0., 0., 0., 1.],\n",
      "        [1., 0., 0., 0., 1.],\n",
      "        [1., 1., 0., 0., 1.],\n",
      "        [1., 0., 1., 0., 0.]])\n",
      "tensor([[1., 0., 0., 0., 0.],\n",
      "        [0., 2., 0., 0., 0.],\n",
      "        [0., 0., 2., 0., 0.],\n",
      "        [0., 0., 0., 3., 0.],\n",
      "        [0., 0., 0., 0., 2.]])\n"
     ]
    }
   ],
   "source": [
    "A = create_adj(5)\n",
    "print(A)\n",
    "D = degree_matrix(A)\n",
    "print(D)"
   ]
  },
  {
   "cell_type": "code",
   "execution_count": 15,
   "metadata": {},
   "outputs": [
    {
     "name": "stdout",
     "output_type": "stream",
     "text": [
      "tensor([[ 1., -1.,  0.,  0.,  0.],\n",
      "        [-1.,  2.,  0.,  0., -1.],\n",
      "        [-1.,  0.,  2.,  0., -1.],\n",
      "        [-1., -1.,  0.,  3., -1.],\n",
      "        [-1.,  0., -1.,  0.,  2.]])\n"
     ]
    }
   ],
   "source": [
    "L = graph_laplacian(A)\n",
    "print(L)"
   ]
  },
  {
   "cell_type": "code",
   "execution_count": 22,
   "metadata": {},
   "outputs": [
    {
     "data": {
      "image/png": "[encoded data removed]",
      "text/plain": [
       "<Figure size 640x480 with 1 Axes>"
      ]
     },
     "metadata": {},
     "output_type": "display_data"
    }
   ],
   "source": [
    "import matplotlib.pyplot as plt\n",
    "import networkx as nx\n",
    "\n",
    "G = nx.petersen_graph()\n",
    "nx.draw(G, with_labels=True, font_weight='bold')"
   ]
  },
  {
   "cell_type": "code",
   "execution_count": 25,
   "metadata": {},
   "outputs": [],
   "source": [
    "def degree_matrix_norm(a):\n",
    "    return torch.diag(torch.pow(a.sum(dim=-1), -0.5))\n",
    "\n",
    "def graph_laplacian_norm(a):\n",
    "    size = a.shape[-1]\n",
    "    D_norm = degree_matrix_norm(a)\n",
    "    L_norm = torch.ones(size) - (D_norm @ a @ D_norm)\n",
    "    return L_norm"
   ]
  },
  {
   "cell_type": "markdown",
   "metadata": {},
   "source": [
    "# GNN이 할 수 있는 일\n",
    "\n",
    "> ### Graph Classification : 각 그래프의 single label을 찾는 문제(지도학습)\n",
    "> ### Node Classification : 보통 큰 그래프는 1000개 이상의 노드를 가지고 있는데 이때, 각 노드의 label를 찾음(반지도학습)"
   ]
  },
  {
   "cell_type": "markdown",
   "metadata": {},
   "source": [
    "# GNN의 수식\n",
    "\n",
    "# $ Y = (AX)W $ \n",
    "> ### W는 학습가능한 파라미터이고, Y는 출력값을 의미함\n",
    "> ### A는 연결성에 대한 정보로 인접행렬이며 0또는 1의 값을 가짐\n",
    "> ### 이번 실습에서는 A보다 더 표현력이 있는 연산자를 사용할것임. \n",
    "> ### 일반적으로, 그래프 시그널을 구함"
   ]
  },
  {
   "cell_type": "code",
   "execution_count": 49,
   "metadata": {},
   "outputs": [],
   "source": [
    "import torch\n",
    "import torch.nn as nn\n",
    "\n",
    "def find_eigmax(L):\n",
    "    with torch.no_grad():\n",
    "        # 입력된 라플라시안 행렬의 고유값을 계산하여, 두개의 반환값중 첫번째 값을 e1에 저장\n",
    "        e1, _ = torch.linalg.eig(L)\n",
    "        # e1 행렬에서 고유값 중 가장 큰값을 반환\n",
    "        return torch.max(e1.real).item()\n",
    "\n",
    "def chebyshev_laplacian(X, laplacian, thetas, order):\n",
    "\n",
    "    '''\n",
    "    그래프에 Chebyshev 다항식 필터를 적용하기 위한 함수 \n",
    "\n",
    "    thetas : Chebyshev 다항식의 계수\n",
    "    order : Chebyshev 차수\n",
    "    '''\n",
    "\n",
    "    # Chebyshev 다항식 필터 적용한 결과 저장\n",
    "    list_powers = []\n",
    "\n",
    "\n",
    "    nodes = laplacian.shape[0]\n",
    "\n",
    "    # Feature Matrix \n",
    "    T0 = X.float()\n",
    "    eigmax = find_eigmax(laplacian)\n",
    "\n",
    "    # L_rescaled : 입력하려는 라플라시안 행렬을 스케일링\n",
    "    L_rescaled = (2 * laplacian / eigmax) - torch.eye(nodes)\n",
    "\n",
    "\n",
    "    y = T0 * thetas[0]\n",
    "    list_powers.append(y)\n",
    "\n",
    "    # T1 : T0과 L_rescaled를 사용하여 계산한 다음 필터 적용 결과\n",
    "    T1 = torch.matmul(L_rescaled, T0)\n",
    "\n",
    "    list_powers.append(T1 * thetas[1])\n",
    "\n",
    "    for k in range(2, order):\n",
    "        T2 = 2 * torch.matmul(L_rescaled, T1) - T0\n",
    "        list_powers.append((T2 * thetas[k]))\n",
    "        T0, T1 = T1, T2\n",
    "    \n",
    "    # list_powers에 저장된 모든 필터 적용 결과 Stacking\n",
    "    y_out = torch.stack(list_powers, dim=-1)\n",
    "    # feature matrix 형태로 변환\n",
    "    y_out = y_out.view(nodes, -1)\n",
    "\n",
    "    return y_out\n"
   ]
  },
  {
   "cell_type": "code",
   "execution_count": 50,
   "metadata": {},
   "outputs": [
    {
     "name": "stdout",
     "output_type": "stream",
     "text": [
      "ChebyShev approximation out powers concatenated:  torch.Size([10, 12])\n",
      "layer's output :  torch.Size([10, 50])\n"
     ]
    }
   ],
   "source": [
    "features = 3\n",
    "out_features = 50\n",
    "A = create_adj(10)\n",
    "L = graph_laplacian_norm(A)\n",
    "X = torch.rand(10, features)\n",
    "\n",
    "power_order = 4 # p-hops\n",
    "thetas = nn.Parameter(torch.rand(4))\n",
    "\n",
    "out = chebyshev_laplacian(X, L, thetas, power_order)\n",
    "\n",
    "print(\"ChebyShev approximation out powers concatenated: \", out.shape)\n",
    "\n",
    "linear = nn.Linear(4 * 3, out_features)\n",
    "layer_out = linear(out)\n",
    "\n",
    "print(\"layer's output : \", layer_out.shape)"
   ]
  },
  {
   "cell_type": "code",
   "execution_count": 51,
   "metadata": {},
   "outputs": [],
   "source": [
    "import numpy as np\n",
    "import torch\n",
    "from torch import nn\n",
    "import torch.nn.functional as F\n",
    "\n",
    "def device_as(x, y):\n",
    "    return x.to(y.device)\n",
    "\n",
    "def calc_degree_matrix_norm(a):\n",
    "    return torch.diag_embed(torch.pow(a.sum(dim=-1), -0.5))\n",
    "\n",
    "def create_graph_laplacian_norm(a):\n",
    "    size = a.shape[-1]\n",
    "    a += device_as(torch.eye(size), a)\n",
    "    D_norm = calc_degree_matrix_norm(a)\n",
    "    L_norm = torch.bmm(torch.bmm(D_norm, a), D_norm)\n",
    "    return L_norm\n",
    "\n",
    "class GCN(nn.Module):\n",
    "    '''\n",
    "    Simple GCN Layer\n",
    "    '''\n",
    "    def __init__(self, in_features, out_features, bias=True):\n",
    "        super().__init__()\n",
    "        self.linear = nn.Linear(in_features, out_features, bias=bias)\n",
    "\n",
    "    def forward(self, X, A):\n",
    "        L = create_graph_laplacian_norm(A)\n",
    "        x = self.linear(X)\n",
    "        return torch.bmm(L, x)"
   ]
  },
  {
   "cell_type": "code",
   "execution_count": 62,
   "metadata": {},
   "outputs": [],
   "source": [
    "import os\n",
    "import torchnet as tnt\n",
    "\n",
    "def indices_to_one_hot(number, nb_classes, label_dummy=-1):\n",
    "    '''\n",
    "    Convert an iterable of indices to one-hot encoded labels.\n",
    "    '''\n",
    "    if number == label_dummy:\n",
    "        return np.zeros(nb_classes)\n",
    "    else:\n",
    "        return np.eye(nb_classes)[number]\n",
    "\n",
    "def get_graph_signal(nx_graph):\n",
    "    d = dict((k, v) for k, v in nx_graph.nodes.items())\n",
    "    x = []\n",
    "    invd = {}\n",
    "    j = 0\n",
    "    for k, v in d.items():\n",
    "        x.append(v['attr_dict'])\n",
    "        invd[k] = j\n",
    "        j = j + 1\n",
    "    return np.array(x)\n",
    "\n",
    "\n",
    "def load_data(path, ds_name, use_node_labels=True, max_node_label=10):\n",
    "    node2graph = {}\n",
    "    Gs = []\n",
    "    data = []\n",
    "    dataset_graph_indicator = f\"{ds_name}_graph_indicator.txt\"\n",
    "    dataset_adj = f\"{ds_name}_A.txt\"\n",
    "    dataset_node_labels = f\"{ds_name}_node_labels.txt\"\n",
    "    dataset_graph_labels = f\"{ds_name}_graph_labels.txt\"\n",
    "\n",
    "    path_graph_indicator = os.path.join(path, dataset_graph_indicator)\n",
    "    path_adj = os.path.join(path, dataset_adj)\n",
    "    path_node_label = os.path.join(path, dataset_node_labels)\n",
    "    path_labels = os.path.join(path, dataset_graph_labels)\n",
    "\n",
    "    with open(path_graph_indicator, \"r\") as f:\n",
    "        c = 1\n",
    "        for line in f:\n",
    "            node2graph[c] = int(line[:-1])\n",
    "            if not node2graph[c] == len(Gs):\n",
    "                Gs.append(nx.Graph())\n",
    "            Gs[-1].add_node(c)\n",
    "            c += 1\n",
    "    \n",
    "    with open(path_adj, \"r\") as f:\n",
    "        for line in f:\n",
    "            edge = line[:-1].split(\",\")\n",
    "            edge[1] = edge[1].replace(\" \", \"\")\n",
    "            Gs[node2graph[int(edge[0])] - 1].add_edge(int(edge[0]), int(edge[1]))\n",
    "\n",
    "    if use_node_labels:\n",
    "        with open(path_node_label, \"r\") as f:\n",
    "            c = 1\n",
    "            for line in f:\n",
    "                node_label = indices_to_one_hot(int(line[:-1]), max_node_label)\n",
    "                Gs[node2graph[c] - 1].add_node(c, attr_dict=node_label)\n",
    "                c += 1\n",
    "    labels = []\n",
    "    with open(path_labels, \"r\") as f:\n",
    "        for line in f:\n",
    "            labels.append(int(line[:-1]))\n",
    "\n",
    "    return list(zip(Gs, labels)) \n",
    "\n",
    "def to_pytorch_dataset(dataset, label_offset=0, batch_size=1):\n",
    "    list_set = []\n",
    "    for graph, label in dataset:\n",
    "        F, G = get_graph_signal(graph), nx.to_numpy_array(graph)\n",
    "        numOfNodes = G.shape[0]\n",
    "        F_tensor = torch.from_numpy(F).float()\n",
    "        G_tensor = torch.from_numpy(G).float()\n",
    "\n",
    "        if label == -1:\n",
    "            label = 0\n",
    "        \n",
    "        label += label_offset\n",
    "\n",
    "        list_set.append(tuple((F_tensor, G_tensor, label)))\n",
    "    dataset_tnt = tnt.dataset.ListDataset(list_set)\n",
    "    data_loader = torch.utils.data.DataLoader(dataset_tnt, shuffle=True, batch_size=batch_size)\n",
    "    return data_loader\n",
    "        \n",
    "\n",
    "\n",
    "def create_loaders(dataset, batch_size, split_id, offset=-1):\n",
    "    train_dataset = dataset[:split_id]\n",
    "    val_dataset = dataset[split_id:]\n",
    "    return to_pytorch_dataset(train_dataset, offset, batch_size), to_pytorch_dataset(val_dataset, offset, batch_size)\n",
    "\n",
    "dataset = load_data(path='./MUTAG/', ds_name='MUTAG', use_node_labels=True, max_node_label=7)\n",
    "train_dataset, val_dataset = create_loaders(dataset, batch_size=1, split_id=150, offset=0)\n",
    "\n",
    "\n",
    "    "
   ]
  },
  {
   "cell_type": "code",
   "execution_count": 65,
   "metadata": {},
   "outputs": [],
   "source": [
    "class GNN(nn.Module):\n",
    "    def __init__(self, in_features=7, hidden_dim=64, classes=2, dropout=0.5):\n",
    "        super(GNN, self).__init__()\n",
    "    \n",
    "        self.conv1 = GCN(in_features, hidden_dim)\n",
    "        self.conv2 = GCN(hidden_dim, hidden_dim)\n",
    "        self.conv3 = GCN(hidden_dim, hidden_dim)\n",
    "        self.fc = nn.Linear(hidden_dim, classes)\n",
    "        self.dropout = dropout\n",
    "    \n",
    "    def forward(self, x, A):\n",
    "        x = self.conv1(x, A)\n",
    "        x = F.relu(x)\n",
    "        x = self.conv2(x, A)\n",
    "        x = F.relu(x)\n",
    "        x = self.conv3(x, A)\n",
    "        x = F.dropout(x, p=self.dropout, training=self.training)\n",
    "        x = x.mean(dim=1)\n",
    "\n",
    "        return self.fc(x)"
   ]
  },
  {
   "cell_type": "code",
   "execution_count": 68,
   "metadata": {},
   "outputs": [
    {
     "name": "stdout",
     "output_type": "stream",
     "text": [
      "Training on cpu\n"
     ]
    }
   ],
   "source": [
    "criterion = torch.nn.CrossEntropyLoss()\n",
    "device = 'cuda' if torch.cuda.is_available() else 'cpu'\n",
    "\n",
    "print(f'Training on {device}')\n",
    "\n",
    "model = GNN(in_features=7, hidden_dim=128, classes=2).to(device)\n",
    "optimizer = torch.optim.SGD(model.parameters(), lr=0.01)\n",
    "\n",
    "def train(train_loader):\n",
    "    model.train() \n",
    "\n",
    "    for data in train_loader:\n",
    "        optimizer.zero_grad()\n",
    "        X, A, labels = data\n",
    "        X, A, labels = X.to(device), A.to(device), labels.to(device) \n",
    "        out = model(X, A)\n",
    "        loss = criterion(out, labels)\n",
    "        loss.backward()\n",
    "        optimizer.step()\n",
    "\n",
    "def test(loader):\n",
    "    model.eval()\n",
    "    correct = 0\n",
    "    for data in loader:\n",
    "        X, A, labels = data\n",
    "        X, A, labels = X.to(device), A.to(device), labels.to(device)\n",
    "        out = model(X, A)\n",
    "        pred = out.argmax(dim=1)\n",
    "        correct += int((pred==labels).sum())\n",
    "    return correct / len(loader.dataset)"
   ]
  },
  {
   "cell_type": "code",
   "execution_count": 69,
   "metadata": {},
   "outputs": [
    {
     "name": "stdout",
     "output_type": "stream",
     "text": [
      "Epoch: 010, Train Acc: 0.6600, Val Acc: 0.6842 || Best Val Score: 0.6842 (Epoch 001) \n",
      "Epoch: 020, Train Acc: 0.6600, Val Acc: 0.6842 || Best Val Score: 0.6842 (Epoch 001) \n",
      "Epoch: 030, Train Acc: 0.7133, Val Acc: 0.6842 || Best Val Score: 0.7632 (Epoch 029) \n",
      "Epoch: 040, Train Acc: 0.7333, Val Acc: 0.6579 || Best Val Score: 0.7632 (Epoch 029) \n",
      "Epoch: 050, Train Acc: 0.7067, Val Acc: 0.6579 || Best Val Score: 0.7632 (Epoch 029) \n",
      "Epoch: 060, Train Acc: 0.7467, Val Acc: 0.6842 || Best Val Score: 0.7632 (Epoch 029) \n",
      "Epoch: 070, Train Acc: 0.7600, Val Acc: 0.6842 || Best Val Score: 0.7632 (Epoch 029) \n",
      "Epoch: 080, Train Acc: 0.7600, Val Acc: 0.7105 || Best Val Score: 0.7632 (Epoch 029) \n",
      "Epoch: 090, Train Acc: 0.7333, Val Acc: 0.6316 || Best Val Score: 0.7632 (Epoch 029) \n",
      "Epoch: 100, Train Acc: 0.7400, Val Acc: 0.6842 || Best Val Score: 0.7632 (Epoch 029) \n",
      "Epoch: 110, Train Acc: 0.7533, Val Acc: 0.7368 || Best Val Score: 0.7632 (Epoch 029) \n",
      "Epoch: 120, Train Acc: 0.7533, Val Acc: 0.6842 || Best Val Score: 0.7632 (Epoch 029) \n",
      "Epoch: 130, Train Acc: 0.7867, Val Acc: 0.7368 || Best Val Score: 0.7632 (Epoch 029) \n",
      "Epoch: 140, Train Acc: 0.7533, Val Acc: 0.6579 || Best Val Score: 0.7632 (Epoch 029) \n",
      "Epoch: 150, Train Acc: 0.7867, Val Acc: 0.7632 || Best Val Score: 0.7632 (Epoch 029) \n",
      "Epoch: 160, Train Acc: 0.7867, Val Acc: 0.7105 || Best Val Score: 0.7632 (Epoch 029) \n",
      "Epoch: 170, Train Acc: 0.7333, Val Acc: 0.6316 || Best Val Score: 0.7632 (Epoch 029) \n",
      "Epoch: 180, Train Acc: 0.7867, Val Acc: 0.7105 || Best Val Score: 0.7632 (Epoch 029) \n",
      "Epoch: 190, Train Acc: 0.7467, Val Acc: 0.6579 || Best Val Score: 0.7632 (Epoch 029) \n",
      "Epoch: 200, Train Acc: 0.7467, Val Acc: 0.6579 || Best Val Score: 0.7632 (Epoch 029) \n",
      "Epoch: 210, Train Acc: 0.7467, Val Acc: 0.6579 || Best Val Score: 0.7632 (Epoch 029) \n",
      "Epoch: 220, Train Acc: 0.8000, Val Acc: 0.7632 || Best Val Score: 0.7895 (Epoch 213) \n",
      "Epoch: 230, Train Acc: 0.7867, Val Acc: 0.7105 || Best Val Score: 0.7895 (Epoch 213) \n",
      "Epoch: 240, Train Acc: 0.7867, Val Acc: 0.7368 || Best Val Score: 0.7895 (Epoch 213) \n"
     ]
    }
   ],
   "source": [
    "best_val = -1\n",
    "for epoch in range(1, 241):\n",
    "    train(train_dataset)\n",
    "    train_acc = test(train_dataset)\n",
    "    val_acc = test(val_dataset)\n",
    "    if val_acc > best_val:\n",
    "        best_val = val_acc\n",
    "        epoch_best = epoch\n",
    "\n",
    "    if epoch % 10 == 0:\n",
    "        print(f'Epoch: {epoch:03d}, Train Acc: {train_acc:.4f}, Val Acc: {val_acc:.4f} || Best Val Score: {best_val:.4f} (Epoch {epoch_best:03d}) ')"
   ]
  }
 ],
 "metadata": {
  "kernelspec": {
   "display_name": "myenv2",
   "language": "python",
   "name": "python3"
  },
  "language_info": {
   "codemirror_mode": {
    "name": "ipython",
    "version": 3
   },
   "file_extension": ".py",
   "mimetype": "text/x-python",
   "name": "python",
   "nbconvert_exporter": "python",
   "pygments_lexer": "ipython3",
   "version": "3.10.8"
  },
  "orig_nbformat": 4
 },
 "nbformat": 4,
 "nbformat_minor": 2
}
